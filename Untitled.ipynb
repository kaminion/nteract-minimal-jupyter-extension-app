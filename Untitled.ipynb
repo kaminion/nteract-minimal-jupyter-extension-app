{
 "cells": [
  {
   "cell_type": "code",
   "execution_count": 3,
   "metadata": {
    "execution": {
     "iopub.execute_input": "2022-02-26T12:08:52.086Z",
     "iopub.status.busy": "2022-02-26T12:08:52.074Z",
     "iopub.status.idle": "2022-02-26T12:08:52.128Z",
     "shell.execute_reply": "2022-02-26T12:08:52.138Z"
    },
    "jupyter": {
     "outputs_hidden": false,
     "source_hidden": false
    },
    "nteract": {
     "transient": {
      "deleting": false
     }
    }
   },
   "outputs": [
    {
     "name": "stdout",
     "output_type": "stream",
     "text": [
      "에디터 테스트\n"
     ]
    }
   ],
   "source": [
    "print(\"에디터 테스트\")"
   ]
  }
 ],
 "metadata": {
  "kernel_info": {
   "name": "python3"
  },
  "kernelspec": {
   "display_name": "Python 3 (ipykernel)",
   "language": "python",
   "name": "python3"
  },
  "language_info": {
   "codemirror_mode": {
    "name": "ipython",
    "version": 3
   },
   "file_extension": ".py",
   "mimetype": "text/x-python",
   "name": "python",
   "nbconvert_exporter": "python",
   "pygments_lexer": "ipython3",
   "version": "3.8.3"
  },
  "nteract": {
   "version": "@nteract/web"
  }
 },
 "nbformat": 4,
 "nbformat_minor": 2
}
