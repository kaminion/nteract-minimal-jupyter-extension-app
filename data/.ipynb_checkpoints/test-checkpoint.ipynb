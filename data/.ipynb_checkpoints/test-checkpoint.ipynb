{
 "cells": [
  {
   "cell_type": "code",
   "execution_count": 69,
   "id": "b2866868-1257-4eda-be92-540f2c95bdb8",
   "metadata": {
    "execution": {
     "iopub.execute_input": "2022-02-28T05:47:33.432Z",
     "iopub.status.busy": "2022-02-28T05:47:33.367Z",
     "iopub.status.idle": "2022-02-28T05:47:34.849Z",
     "shell.execute_reply": "2022-02-28T05:47:34.820Z"
    },
    "jupyter": {
     "outputs_hidden": false,
     "source_hidden": false
    },
    "nteract": {
     "transient": {
      "deleting": false
     }
    },
    "scrolled": false
   },
   "outputs": [
    {
     "name": "stdout",
     "output_type": "stream",
     "text": [
      "Requirement already satisfied: matplotlib in c:\\users\\kaminion\\miniforge3\\lib\\site-packages (3.5.1)\n",
      "Requirement already satisfied: cycler>=0.10 in c:\\users\\kaminion\\miniforge3\\lib\\site-packages (from matplotlib) (0.11.0)\n",
      "Requirement already satisfied: kiwisolver>=1.0.1 in c:\\users\\kaminion\\miniforge3\\lib\\site-packages (from matplotlib) (1.3.2)\n",
      "Requirement already satisfied: pillow>=6.2.0 in c:\\users\\kaminion\\miniforge3\\lib\\site-packages (from matplotlib) (9.0.1)\n",
      "Requirement already satisfied: python-dateutil>=2.7 in c:\\users\\kaminion\\miniforge3\\lib\\site-packages (from matplotlib) (2.8.2)\n",
      "Requirement already satisfied: numpy>=1.17 in c:\\users\\kaminion\\miniforge3\\lib\\site-packages (from matplotlib) (1.22.2)\n",
      "Requirement already satisfied: fonttools>=4.22.0 in c:\\users\\kaminion\\miniforge3\\lib\\site-packages (from matplotlib) (4.29.1)\n",
      "Requirement already satisfied: packaging>=20.0 in c:\\users\\kaminion\\miniforge3\\lib\\site-packages (from matplotlib) (21.3)\n",
      "Requirement already satisfied: pyparsing>=2.2.1 in c:\\users\\kaminion\\miniforge3\\lib\\site-packages (from matplotlib) (3.0.7)\n",
      "Requirement already satisfied: six>=1.5 in c:\\users\\kaminion\\miniforge3\\lib\\site-packages (from python-dateutil>=2.7->matplotlib) (1.16.0)\n"
     ]
    }
   ],
   "source": [
    "!pip install matplotlib"
   ]
  },
  {
   "cell_type": "code",
   "execution_count": 70,
   "id": "77fe1a9d-2651-4cbb-9824-86c6b006837f",
   "metadata": {
    "execution": {
     "iopub.execute_input": "2022-02-28T05:47:34.906Z",
     "iopub.status.busy": "2022-02-28T05:47:34.883Z",
     "iopub.status.idle": "2022-02-28T05:47:36.271Z",
     "shell.execute_reply": "2022-02-28T05:47:36.243Z"
    },
    "jupyter": {
     "outputs_hidden": false,
     "source_hidden": false
    },
    "nteract": {
     "transient": {
      "deleting": false
     }
    }
   },
   "outputs": [
    {
     "name": "stdout",
     "output_type": "stream",
     "text": [
      "Requirement already satisfied: sklearn in c:\\users\\kaminion\\miniforge3\\lib\\site-packages (0.0)\n",
      "Requirement already satisfied: scikit-learn in c:\\users\\kaminion\\miniforge3\\lib\\site-packages (from sklearn) (1.0.2)\n",
      "Requirement already satisfied: numpy>=1.14.6 in c:\\users\\kaminion\\miniforge3\\lib\\site-packages (from scikit-learn->sklearn) (1.22.2)\n",
      "Requirement already satisfied: threadpoolctl>=2.0.0 in c:\\users\\kaminion\\miniforge3\\lib\\site-packages (from scikit-learn->sklearn) (3.1.0)\n",
      "Requirement already satisfied: joblib>=0.11 in c:\\users\\kaminion\\miniforge3\\lib\\site-packages (from scikit-learn->sklearn) (1.1.0)\n",
      "Requirement already satisfied: scipy>=1.1.0 in c:\\users\\kaminion\\miniforge3\\lib\\site-packages (from scikit-learn->sklearn) (1.8.0)\n"
     ]
    }
   ],
   "source": [
    "!pip install sklearn"
   ]
  },
  {
   "cell_type": "code",
   "execution_count": 91,
   "id": "2fc45b80",
   "metadata": {
    "execution": {
     "iopub.execute_input": "2022-02-28T06:10:18.076Z",
     "iopub.status.busy": "2022-02-28T06:10:18.056Z",
     "iopub.status.idle": "2022-02-28T06:10:18.110Z",
     "shell.execute_reply": "2022-02-28T06:10:18.127Z"
    },
    "jupyter": {
     "outputs_hidden": false,
     "source_hidden": false
    },
    "nteract": {
     "transient": {
      "deleting": false
     }
    },
    "tags": []
   },
   "outputs": [],
   "source": [
    "# library\n",
    "import pandas as pd\n",
    "import numpy as np\n",
    "import matplotlib.pyplot as plt\n",
    "from sklearn.metrics import confusion_matrix, accuracy_score, precision_score, recall_score, f1_score"
   ]
  },
  {
   "cell_type": "markdown",
   "id": "3b427685-3471-4dd0-aeec-3415707213c4",
   "metadata": {
    "nteract": {
     "transient": {
      "deleting": false
     }
    }
   },
   "source": []
  },
  {
   "cell_type": "code",
   "execution_count": 90,
   "id": "f5d55c43",
   "metadata": {
    "execution": {
     "iopub.execute_input": "2022-02-28T06:09:56.587Z",
     "iopub.status.busy": "2022-02-28T06:09:56.561Z",
     "iopub.status.idle": "2022-02-28T06:09:56.636Z",
     "shell.execute_reply": "2022-02-28T06:09:56.614Z"
    }
   },
   "outputs": [],
   "source": [
    "# read data\n",
    "data = pd.read_csv('data_smarket.csv')"
   ]
  },
  {
   "cell_type": "code",
   "execution_count": 89,
   "id": "382d83e7-bc9e-4103-8d5f-d03dafb66a44",
   "metadata": {
    "execution": {
     "iopub.execute_input": "2022-02-28T06:08:19.058Z",
     "iopub.status.busy": "2022-02-28T06:08:19.016Z",
     "iopub.status.idle": "2022-02-28T06:08:19.133Z",
     "shell.execute_reply": "2022-02-28T06:08:19.110Z"
    },
    "jupyter": {
     "outputs_hidden": false,
     "source_hidden": false
    },
    "nteract": {
     "transient": {
      "deleting": false
     }
    },
    "scrolled": false
   },
   "outputs": [
    {
     "data": {
      "text/html": [
       "<div>\n",
       "<style scoped>\n",
       "    .dataframe tbody tr th:only-of-type {\n",
       "        vertical-align: middle;\n",
       "    }\n",
       "\n",
       "    .dataframe tbody tr th {\n",
       "        vertical-align: top;\n",
       "    }\n",
       "\n",
       "    .dataframe thead th {\n",
       "        text-align: right;\n",
       "    }\n",
       "</style>\n",
       "<table border=\"1\" class=\"dataframe\">\n",
       "  <thead>\n",
       "    <tr style=\"text-align: right;\">\n",
       "      <th></th>\n",
       "      <th>Year</th>\n",
       "      <th>Lag1</th>\n",
       "      <th>Lag2</th>\n",
       "      <th>Lag3</th>\n",
       "      <th>Lag4</th>\n",
       "      <th>Lag5</th>\n",
       "      <th>Today</th>\n",
       "      <th>Direction</th>\n",
       "    </tr>\n",
       "  </thead>\n",
       "  <tbody>\n",
       "    <tr>\n",
       "      <th>1245</th>\n",
       "      <td>2005</td>\n",
       "      <td>0.422</td>\n",
       "      <td>0.252</td>\n",
       "      <td>-0.024</td>\n",
       "      <td>-0.584</td>\n",
       "      <td>-0.285</td>\n",
       "      <td>0.043</td>\n",
       "      <td>Up</td>\n",
       "    </tr>\n",
       "    <tr>\n",
       "      <th>1246</th>\n",
       "      <td>2005</td>\n",
       "      <td>0.043</td>\n",
       "      <td>0.422</td>\n",
       "      <td>0.252</td>\n",
       "      <td>-0.024</td>\n",
       "      <td>-0.584</td>\n",
       "      <td>-0.955</td>\n",
       "      <td>Down</td>\n",
       "    </tr>\n",
       "    <tr>\n",
       "      <th>1247</th>\n",
       "      <td>2005</td>\n",
       "      <td>-0.955</td>\n",
       "      <td>0.043</td>\n",
       "      <td>0.422</td>\n",
       "      <td>0.252</td>\n",
       "      <td>-0.024</td>\n",
       "      <td>0.130</td>\n",
       "      <td>Up</td>\n",
       "    </tr>\n",
       "    <tr>\n",
       "      <th>1248</th>\n",
       "      <td>2005</td>\n",
       "      <td>0.130</td>\n",
       "      <td>-0.955</td>\n",
       "      <td>0.043</td>\n",
       "      <td>0.422</td>\n",
       "      <td>0.252</td>\n",
       "      <td>-0.298</td>\n",
       "      <td>Down</td>\n",
       "    </tr>\n",
       "    <tr>\n",
       "      <th>1249</th>\n",
       "      <td>2005</td>\n",
       "      <td>-0.298</td>\n",
       "      <td>0.130</td>\n",
       "      <td>-0.955</td>\n",
       "      <td>0.043</td>\n",
       "      <td>0.422</td>\n",
       "      <td>-0.489</td>\n",
       "      <td>Down</td>\n",
       "    </tr>\n",
       "  </tbody>\n",
       "</table>\n",
       "</div>"
      ],
      "text/plain": [
       "      Year   Lag1   Lag2   Lag3   Lag4   Lag5  Today Direction\n",
       "1245  2005  0.422  0.252 -0.024 -0.584 -0.285  0.043        Up\n",
       "1246  2005  0.043  0.422  0.252 -0.024 -0.584 -0.955      Down\n",
       "1247  2005 -0.955  0.043  0.422  0.252 -0.024  0.130        Up\n",
       "1248  2005  0.130 -0.955  0.043  0.422  0.252 -0.298      Down\n",
       "1249  2005 -0.298  0.130 -0.955  0.043  0.422 -0.489      Down"
      ]
     },
     "execution_count": 89,
     "metadata": {},
     "output_type": "execute_result"
    }
   ],
   "source": [
    "data.tail()"
   ]
  },
  {
   "cell_type": "code",
   "execution_count": 74,
   "id": "4eb9509d",
   "metadata": {
    "execution": {
     "iopub.execute_input": "2022-02-28T05:47:36.661Z",
     "iopub.status.busy": "2022-02-28T05:47:36.642Z",
     "iopub.status.idle": "2022-02-28T05:47:36.715Z",
     "shell.execute_reply": "2022-02-28T05:47:36.696Z"
    }
   },
   "outputs": [
    {
     "data": {
      "text/plain": [
       "Up      648\n",
       "Down    602\n",
       "Name: Direction, dtype: int64"
      ]
     },
     "execution_count": 74,
     "metadata": {},
     "output_type": "execute_result"
    }
   ],
   "source": [
    "# EDA\n",
    "#data.info()\n",
    "#data.hist()\n",
    "#data.describe()\n",
    "data['Year'].value_counts()\n",
    "data['Direction'].value_counts()"
   ]
  },
  {
   "cell_type": "code",
   "execution_count": 75,
   "id": "2d69ff22",
   "metadata": {
    "execution": {
     "iopub.execute_input": "2022-02-28T05:47:36.767Z",
     "iopub.status.busy": "2022-02-28T05:47:36.749Z",
     "iopub.status.idle": "2022-02-28T05:47:36.822Z",
     "shell.execute_reply": "2022-02-28T05:47:36.803Z"
    }
   },
   "outputs": [
    {
     "data": {
      "text/plain": [
       "0.9595322561695064"
      ]
     },
     "execution_count": 75,
     "metadata": {},
     "output_type": "execute_result"
    }
   ],
   "source": [
    "# naive earning rate\n",
    "10**np.log10((data['Today']+100)/100).sum()"
   ]
  },
  {
   "cell_type": "code",
   "execution_count": 76,
   "id": "919ebff4",
   "metadata": {
    "execution": {
     "iopub.execute_input": "2022-02-28T05:47:36.876Z",
     "iopub.status.busy": "2022-02-28T05:47:36.856Z",
     "iopub.status.idle": "2022-02-28T05:47:36.918Z",
     "shell.execute_reply": "2022-02-28T05:47:36.898Z"
    }
   },
   "outputs": [],
   "source": [
    "# data setting\n",
    "X = data[['Lag1','Lag2','Lag3','Lag4','Lag5']]\n",
    "y = data['Direction']"
   ]
  },
  {
   "cell_type": "code",
   "execution_count": 77,
   "id": "078fbf33",
   "metadata": {
    "execution": {
     "iopub.execute_input": "2022-02-28T05:47:36.970Z",
     "iopub.status.busy": "2022-02-28T05:47:36.947Z",
     "iopub.status.idle": "2022-02-28T05:47:37.003Z",
     "shell.execute_reply": "2022-02-28T05:47:37.022Z"
    }
   },
   "outputs": [],
   "source": [
    "# train test split\n",
    "data_train = data[data['Year']<=2003]\n",
    "data_test = data[data['Year']>2004]\n",
    "xtrain = X[data['Year']<=2003]\n",
    "xtest = X[data['Year']>2004]\n",
    "ytrain = y[data['Year']<=2003]\n",
    "ytest = y[data['Year']>2004]"
   ]
  },
  {
   "cell_type": "code",
   "execution_count": 78,
   "id": "5b7db700",
   "metadata": {
    "execution": {
     "iopub.execute_input": "2022-02-28T05:47:37.074Z",
     "iopub.status.busy": "2022-02-28T05:47:37.051Z",
     "iopub.status.idle": "2022-02-28T05:47:37.138Z",
     "shell.execute_reply": "2022-02-28T05:47:37.115Z"
    }
   },
   "outputs": [
    {
     "data": {
      "text/plain": [
       "array([[56, 55],\n",
       "       [65, 76]], dtype=int64)"
      ]
     },
     "execution_count": 78,
     "metadata": {},
     "output_type": "execute_result"
    }
   ],
   "source": [
    "# knn\n",
    "from sklearn.neighbors import KNeighborsClassifier\n",
    "knn = KNeighborsClassifier()\n",
    "knn.fit(xtrain,ytrain)\n",
    "knn.score(xtrain,ytrain)\n",
    "knn.score(xtest,ytest)\n",
    "yhat_knn = knn.predict(xtest)\n",
    "confusion_matrix(ytest,yhat_knn)"
   ]
  },
  {
   "cell_type": "code",
   "execution_count": 79,
   "id": "b5b64c5e",
   "metadata": {
    "execution": {
     "iopub.execute_input": "2022-02-28T05:47:37.185Z",
     "iopub.status.busy": "2022-02-28T05:47:37.167Z",
     "iopub.status.idle": "2022-02-28T05:47:37.267Z",
     "shell.execute_reply": "2022-02-28T05:47:37.295Z"
    }
   },
   "outputs": [
    {
     "data": {
      "text/plain": [
       "array([[55, 56],\n",
       "       [57, 84]], dtype=int64)"
      ]
     },
     "execution_count": 79,
     "metadata": {},
     "output_type": "execute_result"
    }
   ],
   "source": [
    "# knn grid search\n",
    "from sklearn.model_selection import GridSearchCV\n",
    "param = { 'n_neighbors': [2,3,5,10,20,30,50,100,200,500] }\n",
    "knn = GridSearchCV(KNeighborsClassifier(),param_grid=param)\n",
    "knn.fit(xtrain,ytrain)\n",
    "knn.score(xtrain,ytrain)\n",
    "knn.score(xtest,ytest)\n",
    "yhat_knn = knn.predict(xtest)\n",
    "confusion_matrix(ytest,yhat_knn)"
   ]
  },
  {
   "cell_type": "code",
   "execution_count": 80,
   "id": "6df80621",
   "metadata": {
    "execution": {
     "iopub.execute_input": "2022-02-28T05:47:37.332Z",
     "iopub.status.busy": "2022-02-28T05:47:37.314Z",
     "iopub.status.idle": "2022-02-28T05:47:37.463Z",
     "shell.execute_reply": "2022-02-28T05:47:37.441Z"
    }
   },
   "outputs": [
    {
     "data": {
      "text/plain": [
       "array([[54, 57],\n",
       "       [58, 83]], dtype=int64)"
      ]
     },
     "execution_count": 80,
     "metadata": {},
     "output_type": "execute_result"
    }
   ],
   "source": [
    "# rf\n",
    "from sklearn.ensemble import RandomForestClassifier\n",
    "rf = RandomForestClassifier()\n",
    "rf.fit(xtrain,ytrain)\n",
    "rf.score(xtrain,ytrain)\n",
    "rf.score(xtest,ytest)\n",
    "yhat_rf = rf.predict(xtest)\n",
    "confusion_matrix(ytest,yhat_rf)"
   ]
  },
  {
   "cell_type": "code",
   "execution_count": 93,
   "id": "07e1eba8",
   "metadata": {
    "execution": {
     "iopub.execute_input": "2022-02-28T06:11:19.190Z",
     "iopub.status.busy": "2022-02-28T06:11:19.169Z",
     "iopub.status.idle": "2022-02-28T06:12:00.071Z",
     "shell.execute_reply": "2022-02-28T06:12:00.095Z"
    },
    "scrolled": false,
    "tags": [
     "parameters"
    ]
   },
   "outputs": [
    {
     "data": {
      "text/plain": [
       "array([[60, 51],\n",
       "       [61, 80]], dtype=int64)"
      ]
     },
     "execution_count": 93,
     "metadata": {},
     "output_type": "execute_result"
    }
   ],
   "source": [
    "# rf grid search\n",
    "from sklearn.model_selection import GridSearchCV\n",
    "param = { 'max_depth': [2,3,4,5,6,7,8,9,10,None] }\n",
    "rf = GridSearchCV(RandomForestClassifier(n_estimators=500),param_grid=param)\n",
    "rf.fit(xtrain,ytrain)\n",
    "rf.score(xtrain,ytrain)\n",
    "rf.score(xtest,ytest)\n",
    "yhat_rf = rf.predict(xtest)\n",
    "confusion_matrix(ytest,yhat_rf)\n"
   ]
  },
  {
   "cell_type": "code",
   "execution_count": 82,
   "id": "cf0b8891",
   "metadata": {
    "execution": {
     "iopub.execute_input": "2022-02-28T05:48:17.428Z",
     "iopub.status.busy": "2022-02-28T05:48:17.408Z",
     "iopub.status.idle": "2022-02-28T05:48:17.480Z",
     "shell.execute_reply": "2022-02-28T05:48:17.499Z"
    }
   },
   "outputs": [
    {
     "data": {
      "text/plain": [
       "1.0299522455068078"
      ]
     },
     "execution_count": 82,
     "metadata": {},
     "output_type": "execute_result"
    }
   ],
   "source": [
    "# earning\n",
    "\n",
    "# naive\n",
    "log_rate_naive = np.log10((data_test['Today']+100)/100)\n",
    "10**log_rate_naive.sum()"
   ]
  },
  {
   "cell_type": "code",
   "execution_count": 83,
   "id": "e42e43e4",
   "metadata": {
    "execution": {
     "iopub.execute_input": "2022-02-28T05:48:17.536Z",
     "iopub.status.busy": "2022-02-28T05:48:17.518Z",
     "iopub.status.idle": "2022-02-28T05:48:17.584Z",
     "shell.execute_reply": "2022-02-28T05:48:17.602Z"
    }
   },
   "outputs": [
    {
     "data": {
      "text/plain": [
       "1.9436412979508038"
      ]
     },
     "execution_count": 83,
     "metadata": {},
     "output_type": "execute_result"
    }
   ],
   "source": [
    "# best\n",
    "log_rate_best = np.log10((data_test['Today']+100)/100)\n",
    "log_rate_best[ ytest=='Down' ] = 0\n",
    "10**log_rate_best.sum()"
   ]
  },
  {
   "cell_type": "code",
   "execution_count": 84,
   "id": "be392472",
   "metadata": {
    "execution": {
     "iopub.execute_input": "2022-02-28T05:48:17.639Z",
     "iopub.status.busy": "2022-02-28T05:48:17.622Z",
     "iopub.status.idle": "2022-02-28T05:48:17.698Z",
     "shell.execute_reply": "2022-02-28T05:48:17.678Z"
    }
   },
   "outputs": [
    {
     "data": {
      "text/plain": [
       "1.0463012307688166"
      ]
     },
     "execution_count": 84,
     "metadata": {},
     "output_type": "execute_result"
    }
   ],
   "source": [
    "# knn\n",
    "yhat = knn.predict(xtest)\n",
    "log_rate_knn = np.log10((data_test['Today']+100)/100)\n",
    "log_rate_knn[ yhat=='Down' ] = 0\n",
    "10**log_rate_knn.sum()"
   ]
  },
  {
   "cell_type": "code",
   "execution_count": 85,
   "id": "dbc39a0d",
   "metadata": {
    "execution": {
     "iopub.execute_input": "2022-02-28T05:48:17.743Z",
     "iopub.status.busy": "2022-02-28T05:48:17.725Z",
     "iopub.status.idle": "2022-02-28T05:48:17.801Z",
     "shell.execute_reply": "2022-02-28T05:48:17.781Z"
    }
   },
   "outputs": [
    {
     "data": {
      "text/plain": [
       "1.0808264895667548"
      ]
     },
     "execution_count": 85,
     "metadata": {},
     "output_type": "execute_result"
    }
   ],
   "source": [
    "\n",
    "# rf\n",
    "yhat = rf.predict(xtest)\n",
    "log_rate_rf = np.log10((data_test['Today']+100)/100)\n",
    "log_rate_rf[ yhat=='Down' ] = 0\n",
    "10**log_rate_rf.sum()"
   ]
  },
  {
   "cell_type": "code",
   "execution_count": null,
   "id": "593efd45-f661-424d-8e91-e3f2dfa6730e",
   "metadata": {
    "jupyter": {
     "outputs_hidden": false,
     "source_hidden": false
    },
    "nteract": {
     "transient": {
      "deleting": false
     }
    }
   },
   "outputs": [],
   "source": []
  }
 ],
 "metadata": {
  "kernel_info": {
   "name": "python3"
  },
  "kernelspec": {
   "display_name": "Python 3 (ipykernel)",
   "language": "python",
   "name": "python3"
  },
  "language_info": {
   "codemirror_mode": {
    "name": "ipython",
    "version": 3
   },
   "file_extension": ".py",
   "mimetype": "text/x-python",
   "name": "python",
   "nbconvert_exporter": "python",
   "pygments_lexer": "ipython3",
   "version": "3.9.7"
  },
  "nteract": {
   "version": "@nteract/web"
  }
 },
 "nbformat": 4,
 "nbformat_minor": 5
}
